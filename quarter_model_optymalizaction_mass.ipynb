{
  "nbformat": 4,
  "nbformat_minor": 0,
  "metadata": {
    "colab": {
      "name": "quarter-model-optymalizaction-mass.ipynb",
      "provenance": [],
      "collapsed_sections": []
    },
    "kernelspec": {
      "name": "python3",
      "display_name": "Python 3"
    }
  },
  "cells": [
    {
      "cell_type": "code",
      "metadata": {
        "id": "KdXmkLH725fu",
        "colab_type": "code",
        "colab": {
          "base_uri": "https://localhost:8080/",
          "height": 156
        },
        "outputId": "5b5b67b7-0aa9-4398-8cec-93951e05fb00"
      },
      "source": [
        "!git clone https://github.com/marcin119a/lstm-pycbc.git\n",
        "%cd lstm-pycbc"
      ],
      "execution_count": null,
      "outputs": [
        {
          "output_type": "stream",
          "text": [
            "Cloning into 'lstm-pycbc'...\n",
            "remote: Enumerating objects: 16, done.\u001b[K\n",
            "remote: Counting objects: 100% (16/16), done.\u001b[K\n",
            "remote: Compressing objects: 100% (13/13), done.\u001b[K\n",
            "remote: Total 179 (delta 4), reused 13 (delta 3), pack-reused 163\u001b[K\n",
            "Receiving objects: 100% (179/179), 9.65 MiB | 25.93 MiB/s, done.\n",
            "Resolving deltas: 100% (82/82), done.\n",
            "/content/lstm-pycbc\n"
          ],
          "name": "stdout"
        }
      ]
    },
    {
      "cell_type": "code",
      "metadata": {
        "id": "Qlm7aLDB3UC2",
        "colab_type": "code",
        "colab": {}
      },
      "source": [
        "%%capture\n",
        "!pip install -r requirements.txt"
      ],
      "execution_count": null,
      "outputs": []
    },
    {
      "cell_type": "code",
      "metadata": {
        "id": "BQht-p2r4EYg",
        "colab_type": "code",
        "colab": {
          "base_uri": "https://localhost:8080/",
          "height": 54
        },
        "outputId": "4d248ed7-d155-4d56-8f95-15cea66b8280"
      },
      "source": [
        "!python dump_dataset.py -m1=10 -m2=20 -n=100 -time_steps=300"
      ],
      "execution_count": null,
      "outputs": [
        {
          "output_type": "stream",
          "text": [
            "2020-09-21 14:19:19.887277: I tensorflow/stream_executor/platform/default/dso_loader.cc:48] Successfully opened dynamic library libcudart.so.10.1\n"
          ],
          "name": "stdout"
        }
      ]
    },
    {
      "cell_type": "code",
      "metadata": {
        "id": "D1LEx4Df5zV6",
        "colab_type": "code",
        "colab": {}
      },
      "source": [
        "import hickle as hkl\n",
        "\n",
        "\n",
        "array_hkl = hkl.load('/content/lstm-pycbc/D-SET(100,300).hkl')\n",
        "X_train = array_hkl.get('xtrain')\n",
        "X_test = array_hkl.get('xtest')\n",
        "y_train = array_hkl.get('ytrain')\n",
        "y_test = array_hkl.get('ytest')"
      ],
      "execution_count": 83,
      "outputs": []
    },
    {
      "cell_type": "code",
      "metadata": {
        "id": "AluB9aovIfFX",
        "colab_type": "code",
        "colab": {
          "base_uri": "https://localhost:8080/",
          "height": 347
        },
        "outputId": "3b9723ff-e392-4bd9-a89e-b1040d47820f"
      },
      "source": [
        "X_train"
      ],
      "execution_count": 84,
      "outputs": [
        {
          "output_type": "execute_result",
          "data": {
            "text/plain": [
              "array([[[ 2.36878480e-05, -3.95767887e-05,  6.47086134e-05, ...,\n",
              "          8.10420808e-02,  7.91132287e-02,  7.68599263e-02]],\n",
              "\n",
              "       [[ 2.24713882e-05, -4.13951242e-05,  6.52392863e-05, ...,\n",
              "          7.94953527e-02,  7.72769159e-02,  7.47384821e-02]],\n",
              "\n",
              "       [[-2.90489585e-05,  2.41713790e-05, -5.48470752e-05, ...,\n",
              "          7.25839463e-02,  6.94438520e-02,  6.60073547e-02]],\n",
              "\n",
              "       ...,\n",
              "\n",
              "       [[-9.73066466e-06,  9.08920621e-06, -1.93400576e-05, ...,\n",
              "          6.44812241e-02,  6.05480937e-02,  5.63481148e-02]],\n",
              "\n",
              "       [[ 1.62331870e-05, -1.89279001e-05,  3.60136149e-05, ...,\n",
              "          6.68168358e-02,  6.30926793e-02,  5.90939287e-02]],\n",
              "\n",
              "       [[-1.57189025e-07,  1.40581855e-07, -3.22275149e-07, ...,\n",
              "          7.36127666e-02,  7.05880726e-02,  6.72635686e-02]]])"
            ]
          },
          "metadata": {
            "tags": []
          },
          "execution_count": 84
        }
      ]
    },
    {
      "cell_type": "code",
      "metadata": {
        "id": "9jW5pWTyq4Ue",
        "colab_type": "code",
        "colab": {}
      },
      "source": [
        "X_norm, y_norm, X, y = random_dataset(m1=10, m2=20, n_steps=100, iteraction=10, quark=True)"
      ],
      "execution_count": null,
      "outputs": []
    },
    {
      "cell_type": "code",
      "metadata": {
        "id": "Yw0D1XkS6PPG",
        "colab_type": "code",
        "colab": {}
      },
      "source": [
        "X_norm = X_norm.reshape(X_norm.shape[0], X_norm.shape[2], 1)"
      ],
      "execution_count": null,
      "outputs": []
    }
  ]
}